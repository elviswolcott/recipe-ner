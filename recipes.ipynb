{
 "cells": [
  {
   "cell_type": "markdown",
   "metadata": {},
   "source": [
    "## Installing and Using spaCY\n",
    "Make sure that the install was done correctly for all packages, and the versions match. More details for installation here: [spaCy 101: Everything you need to know](https://spacy.io/usage) (this part can be frustrating, so validate and make sure everything works with the code blocks below)."
   ]
  },
  {
   "cell_type": "code",
   "execution_count": 35,
   "metadata": {},
   "outputs": [
    {
     "name": "stdout",
     "output_type": "stream",
     "text": [
      "\n",
      "⠙ Loading compatibility table...\n",
      "⠹ Loading compatibility table...\n",
      "⠸ Loading compatibility table...\n",
      "⠼ Loading compatibility table...\n",
      "⠴ Loading compatibility table...\n",
      "⠦ Loading compatibility table...\n",
      "⠧ Loading compatibility table...\n",
      "⠇ Loading compatibility table...\n",
      "⠏ Loading compatibility table...\n",
      "⠙ Loading compatibility table...\n",
      "\u001b[2K✔ Loaded compatibility table\n",
      "\u001b[1m\n",
      "================= Installed pipeline packages (spaCy v3.1.3) =================\u001b[0m\n",
      "ℹ spaCy installation:\n",
      "C:\\Users\\elvis\\anaconda3\\envs\\jupyter\\lib\\site-packages\\spacy\n",
      "\n",
      "NAME              SPACY            VERSION    \n",
      "en_core_web_lg    >=3.1.0,<3.2.0   3.1.0     ✔\n",
      "en_core_web_sm    >=3.1.0,<3.2.0   3.1.0     ✔\n",
      "en_core_web_trf   >=3.1.0,<3.2.0   3.1.0     ✔\n",
      "\n",
      "C:\\Users\\elvis\\anaconda3\\envs\\jupyter\\Library\n"
     ]
    }
   ],
   "source": [
    "'''\n",
    "Validate spacy installs, compatability for version used\n",
    "'''\n",
    "# Active the venv for the models (not available through conda)\n",
    "!python -m spacy validate\n",
    "!echo %CUDA_PATH%\n",
    "import spacy"
   ]
  },
  {
   "cell_type": "markdown",
   "metadata": {},
   "source": [
    "## Demo spaCy: NER and Visualization Basics\n",
    "Here, we are trying to see how we can get spaCy to do what we want it to do. First, let's see what the base NER can do, and visualize it nicely with `displacy`.\n",
    "\n",
    "Here, let's use a two-sentence text, and run the entity labeler based on the small English model and the large English model. From this, we can learn a few things about these spaCy models and how we may create our own."
   ]
  },
  {
   "cell_type": "code",
   "execution_count": 36,
   "metadata": {},
   "outputs": [
    {
     "name": "stdout",
     "output_type": "stream",
     "text": [
      "Small Model:\n",
      "[('Hedgehog', 'PRODUCT'), ('Japanese', 'NORP'), ('Sega', 'PERSON')]\n",
      "[('Sonic', 'ORG'), ('Eggman', 'PERSON')]\n",
      "Large Model:\n",
      "[('Japanese', 'NORP'), ('Sega', 'ORG')]\n",
      "[('Sonic', 'ORG'), ('Eggman', 'PERSON')]\n"
     ]
    }
   ],
   "source": [
    "# Text taken from Sonic Wikipedia page\n",
    "texts = [\n",
    "    \"Sonic the Hedgehog is a Japanese video game series and media franchise created and owned by Sega.\",\n",
    "    \"The franchise follows Sonic, an anthropomorphic blue hedgehog who battles the evil Doctor Eggman, a mad scientist.\",\n",
    "]\n",
    "\n",
    "# Example using small English pre-trained model\n",
    "print(\"Small Model:\")\n",
    "nlp = spacy.load(\"en_core_web_sm\")\n",
    "for doc in nlp.pipe(texts, disable=[\"tok2vec\", \"tagger\", \"parser\", \"attribute_ruler\", \"lemmatizer\"]):\n",
    "    # Do something with the doc here\n",
    "    print([(ent.text, ent.label_) for ent in doc.ents])\n",
    "\n",
    "# Example using large English pre-trained model\n",
    "print(\"Large Model:\")\n",
    "nlp = spacy.load(\"en_core_web_lg\")\n",
    "for doc in nlp.pipe(texts, disable=[\"tok2vec\", \"tagger\", \"parser\", \"attribute_ruler\", \"lemmatizer\"]):\n",
    "    # Do something with the doc here\n",
    "    print([(ent.text, ent.label_) for ent in doc.ents])"
   ]
  },
  {
   "cell_type": "markdown",
   "metadata": {},
   "source": [
    "From the start, we see some issues the way that entities are found and labeled. Using the **small English model**, it says that *Hedgehog* in this case is a PRODUCT, *Sega* is a PERSON rather than an ORG, and *Sonic* is an ORG when it is referring to the character. The **large English model**, however, correctly labels *Sega* as an ORG, and does not label *Hedgehog* as a PRODUCT. We can see the possible reasoning for *Sonic* to still be mislabeled, as *Sonic* also refers to the fast-food chain, and the model may have been trained based on that.\n",
    "\n",
    "With these two comparisons, we can see how creating a large training model will be very, very important for this project to work well!\n",
    "\n",
    "Next, let's create some pretty graphics representing the entity labeling using `displacy`! We're going to use a new, short sentence."
   ]
  },
  {
   "cell_type": "code",
   "execution_count": 53,
   "metadata": {},
   "outputs": [
    {
     "data": {
      "text/html": [
       "<span class=\"tex2jax_ignore\"><h2 style=\"margin: 0\">Example Render of Entity Recognizer</h2>\n",
       "\n",
       "<div class=\"entities\" style=\"line-height: 2.5; direction: ltr\">\n",
       "<mark class=\"entity\" style=\"background: linear-gradient(90deg, #aa9cfc, #fc9ce7); padding: 0.45em 0.6em; margin: 0 0.25em; line-height: 1; border-radius: 0.35em;\">\n",
       "    Apple\n",
       "    <span style=\"font-size: 0.8em; font-weight: bold; line-height: 1; border-radius: 0.35em; vertical-align: middle; margin-left: 0.5rem\">ORG</span>\n",
       "</mark>\n",
       " is looking at buying \n",
       "<mark class=\"entity\" style=\"background: #feca74; padding: 0.45em 0.6em; margin: 0 0.25em; line-height: 1; border-radius: 0.35em;\">\n",
       "    U.K.\n",
       "    <span style=\"font-size: 0.8em; font-weight: bold; line-height: 1; border-radius: 0.35em; vertical-align: middle; margin-left: 0.5rem\">GPE</span>\n",
       "</mark>\n",
       " startup for \n",
       "<mark class=\"entity\" style=\"background: #e4e7d2; padding: 0.45em 0.6em; margin: 0 0.25em; line-height: 1; border-radius: 0.35em;\">\n",
       "    $1 billion\n",
       "    <span style=\"font-size: 0.8em; font-weight: bold; line-height: 1; border-radius: 0.35em; vertical-align: middle; margin-left: 0.5rem\">MONEY</span>\n",
       "</mark>\n",
       "</div></span>"
      ],
      "text/plain": [
       "<IPython.core.display.HTML object>"
      ]
     },
     "metadata": {},
     "output_type": "display_data"
    }
   ],
   "source": [
    "'''\n",
    "Example with Visualizations\n",
    "'''\n",
    "import spacy\n",
    "from spacy import displacy\n",
    "\n",
    "nlp = spacy.load(\"en_core_web_lg\")\n",
    "doc = nlp(\"Apple is looking at buying U.K. startup for $1 billion\")\n",
    "for ent in doc.ents:\n",
    "    #print(ent.text, ent.start_char, ent.end_char, ent.label_)\n",
    "    continue\n",
    "\n",
    "# TODO: we should define nice colors to reuse for all our entity types\n",
    "colors = {\"ORG\": \"linear-gradient(90deg, #aa9cfc, #fc9ce7)\"}\n",
    "options = {\"colors\": colors}\n",
    "doc.user_data[\"title\"] = \"Example Render of Entity Recognizer\"\n",
    "displacy.render(doc, style=\"ent\", jupyter=True, options=options)"
   ]
  },
  {
   "cell_type": "markdown",
   "metadata": {},
   "source": [
    "# Create Training Data\n",
    "After we did some smaller tests to see how spaCy is working, let's compile the datasets into valuable training data to be used. This will then be used in order to create everything we need to deal with new data. We're doing this with the **recipe** text we want to eventually use!"
   ]
  },
  {
   "cell_type": "markdown",
   "metadata": {},
   "source": [
    "### Step 1: See What Spacy Already Labels\n",
    "First, let's see how it works with text from a recipe. This will help us know how to build our model and how to format our dataset. With this, we can see what entities spaCy looks for when given a recipe."
   ]
  },
  {
   "cell_type": "code",
   "execution_count": 65,
   "metadata": {},
   "outputs": [
    {
     "name": "stdout",
     "output_type": "stream",
     "text": [
      "1 CARDINAL\n"
     ]
    }
   ],
   "source": [
    "'''\n",
    "Example using Recipe Text\n",
    "'''\n",
    "import spacy\n",
    "test = \"add flour and stir to cook and absorb the oil, then add in 1 cup vegan\\\n",
    "        creamer or plant milk and vegan chicken bouillon paste/powder/cube, then whisk/stir\\\n",
    "        vigorously until the flour has cooked and thickened in the sauce (to make the roux).\\\n",
    "         add the grated vegan parm and stir to melt, then thin the sauce with either more\\\n",
    "        plant milk or the reserved cooking pasta water.\"\n",
    "nlp = spacy.load(\"en_core_web_lg\")\n",
    "doc = nlp(test)\n",
    "for ent in doc.ents:\n",
    "    print(ent.text, ent.label_)"
   ]
  },
  {
   "cell_type": "markdown",
   "metadata": {},
   "source": [
    "It seems that spaCy is only able to pick out cardinals from a text such as this one. That's fine! In the next step, we're going to look on how to create connected entities and labels, heading towards creating the dataset we need."
   ]
  },
  {
   "cell_type": "markdown",
   "metadata": {},
   "source": [
    "### Step 2: Build a Small Training Dataset Example\n",
    "\n",
    "We want to build our dataset to be able to detect three things: **ingredients**, **quantities**, and **processes**. And, we are able to do just that. Let's manually do that now with the example above, but start off with a blank spacy nlp, so that labels such as cardinals are disregarded. Without doing this, **quantities** that include numbers will be labeled as cardinals instead.\n",
    "\n",
    "Examples of each label:\n",
    "* **Ingredients**: Flour, sugar, apple sauce...\n",
    "* **Quantities**: 1 cup, 1/4 tablespoon, 1 teaspoon...\n",
    "* **Processes**: Mix, stir, fry..."
   ]
  },
  {
   "cell_type": "code",
   "execution_count": 70,
   "metadata": {},
   "outputs": [
    {
     "data": {
      "text/html": [
       "<span class=\"tex2jax_ignore\"><div class=\"entities\" style=\"line-height: 2.5; direction: ltr\">\n",
       "<mark class=\"entity\" style=\"background: linear-gradient(90deg, #3fc9a2, #a2f7b5); padding: 0.45em 0.6em; margin: 0 0.25em; line-height: 1; border-radius: 0.35em;\">\n",
       "    add\n",
       "    <span style=\"font-size: 0.8em; font-weight: bold; line-height: 1; border-radius: 0.35em; vertical-align: middle; margin-left: 0.5rem\">PROCESS</span>\n",
       "</mark>\n",
       " \n",
       "<mark class=\"entity\" style=\"background: linear-gradient(90deg, #aa9cfc, #fc9ce7); padding: 0.45em 0.6em; margin: 0 0.25em; line-height: 1; border-radius: 0.35em;\">\n",
       "    flour\n",
       "    <span style=\"font-size: 0.8em; font-weight: bold; line-height: 1; border-radius: 0.35em; vertical-align: middle; margin-left: 0.5rem\">INGREDIENT</span>\n",
       "</mark>\n",
       " and \n",
       "<mark class=\"entity\" style=\"background: linear-gradient(90deg, #3fc9a2, #a2f7b5); padding: 0.45em 0.6em; margin: 0 0.25em; line-height: 1; border-radius: 0.35em;\">\n",
       "    stir\n",
       "    <span style=\"font-size: 0.8em; font-weight: bold; line-height: 1; border-radius: 0.35em; vertical-align: middle; margin-left: 0.5rem\">PROCESS</span>\n",
       "</mark>\n",
       " to cook and absorb the \n",
       "<mark class=\"entity\" style=\"background: linear-gradient(90deg, #aa9cfc, #fc9ce7); padding: 0.45em 0.6em; margin: 0 0.25em; line-height: 1; border-radius: 0.35em;\">\n",
       "    oil\n",
       "    <span style=\"font-size: 0.8em; font-weight: bold; line-height: 1; border-radius: 0.35em; vertical-align: middle; margin-left: 0.5rem\">INGREDIENT</span>\n",
       "</mark>\n",
       ", then \n",
       "<mark class=\"entity\" style=\"background: linear-gradient(90deg, #3fc9a2, #a2f7b5); padding: 0.45em 0.6em; margin: 0 0.25em; line-height: 1; border-radius: 0.35em;\">\n",
       "    add\n",
       "    <span style=\"font-size: 0.8em; font-weight: bold; line-height: 1; border-radius: 0.35em; vertical-align: middle; margin-left: 0.5rem\">PROCESS</span>\n",
       "</mark>\n",
       " in \n",
       "<mark class=\"entity\" style=\"background: linear-gradient(90deg, #787ff6, #4adede); padding: 0.45em 0.6em; margin: 0 0.25em; line-height: 1; border-radius: 0.35em;\">\n",
       "    1 cup\n",
       "    <span style=\"font-size: 0.8em; font-weight: bold; line-height: 1; border-radius: 0.35em; vertical-align: middle; margin-left: 0.5rem\">QUANTITY</span>\n",
       "</mark>\n",
       " \n",
       "<mark class=\"entity\" style=\"background: linear-gradient(90deg, #aa9cfc, #fc9ce7); padding: 0.45em 0.6em; margin: 0 0.25em; line-height: 1; border-radius: 0.35em;\">\n",
       "    vegan creamer\n",
       "    <span style=\"font-size: 0.8em; font-weight: bold; line-height: 1; border-radius: 0.35em; vertical-align: middle; margin-left: 0.5rem\">INGREDIENT</span>\n",
       "</mark>\n",
       " or \n",
       "<mark class=\"entity\" style=\"background: linear-gradient(90deg, #aa9cfc, #fc9ce7); padding: 0.45em 0.6em; margin: 0 0.25em; line-height: 1; border-radius: 0.35em;\">\n",
       "    plant milk\n",
       "    <span style=\"font-size: 0.8em; font-weight: bold; line-height: 1; border-radius: 0.35em; vertical-align: middle; margin-left: 0.5rem\">INGREDIENT</span>\n",
       "</mark>\n",
       " and \n",
       "<mark class=\"entity\" style=\"background: linear-gradient(90deg, #aa9cfc, #fc9ce7); padding: 0.45em 0.6em; margin: 0 0.25em; line-height: 1; border-radius: 0.35em;\">\n",
       "    vegan chicken bouillon\n",
       "    <span style=\"font-size: 0.8em; font-weight: bold; line-height: 1; border-radius: 0.35em; vertical-align: middle; margin-left: 0.5rem\">INGREDIENT</span>\n",
       "</mark>\n",
       " paste/powder/cube, then \n",
       "<mark class=\"entity\" style=\"background: linear-gradient(90deg, #3fc9a2, #a2f7b5); padding: 0.45em 0.6em; margin: 0 0.25em; line-height: 1; border-radius: 0.35em;\">\n",
       "    whisk\n",
       "    <span style=\"font-size: 0.8em; font-weight: bold; line-height: 1; border-radius: 0.35em; vertical-align: middle; margin-left: 0.5rem\">PROCESS</span>\n",
       "</mark>\n",
       "/\n",
       "<mark class=\"entity\" style=\"background: linear-gradient(90deg, #3fc9a2, #a2f7b5); padding: 0.45em 0.6em; margin: 0 0.25em; line-height: 1; border-radius: 0.35em;\">\n",
       "    stir\n",
       "    <span style=\"font-size: 0.8em; font-weight: bold; line-height: 1; border-radius: 0.35em; vertical-align: middle; margin-left: 0.5rem\">PROCESS</span>\n",
       "</mark>\n",
       " vigorously until the \n",
       "<mark class=\"entity\" style=\"background: linear-gradient(90deg, #aa9cfc, #fc9ce7); padding: 0.45em 0.6em; margin: 0 0.25em; line-height: 1; border-radius: 0.35em;\">\n",
       "    flour\n",
       "    <span style=\"font-size: 0.8em; font-weight: bold; line-height: 1; border-radius: 0.35em; vertical-align: middle; margin-left: 0.5rem\">INGREDIENT</span>\n",
       "</mark>\n",
       " has cooked and thickened in the sauce (to make the roux). </div>\n",
       "\n",
       "<div class=\"entities\" style=\"line-height: 2.5; direction: ltr\">\n",
       "<mark class=\"entity\" style=\"background: linear-gradient(90deg, #3fc9a2, #a2f7b5); padding: 0.45em 0.6em; margin: 0 0.25em; line-height: 1; border-radius: 0.35em;\">\n",
       "    add\n",
       "    <span style=\"font-size: 0.8em; font-weight: bold; line-height: 1; border-radius: 0.35em; vertical-align: middle; margin-left: 0.5rem\">PROCESS</span>\n",
       "</mark>\n",
       " the grated \n",
       "<mark class=\"entity\" style=\"background: linear-gradient(90deg, #aa9cfc, #fc9ce7); padding: 0.45em 0.6em; margin: 0 0.25em; line-height: 1; border-radius: 0.35em;\">\n",
       "    vegan parm\n",
       "    <span style=\"font-size: 0.8em; font-weight: bold; line-height: 1; border-radius: 0.35em; vertical-align: middle; margin-left: 0.5rem\">INGREDIENT</span>\n",
       "</mark>\n",
       " and \n",
       "<mark class=\"entity\" style=\"background: linear-gradient(90deg, #3fc9a2, #a2f7b5); padding: 0.45em 0.6em; margin: 0 0.25em; line-height: 1; border-radius: 0.35em;\">\n",
       "    stir\n",
       "    <span style=\"font-size: 0.8em; font-weight: bold; line-height: 1; border-radius: 0.35em; vertical-align: middle; margin-left: 0.5rem\">PROCESS</span>\n",
       "</mark>\n",
       " to melt, then \n",
       "<mark class=\"entity\" style=\"background: linear-gradient(90deg, #3fc9a2, #a2f7b5); padding: 0.45em 0.6em; margin: 0 0.25em; line-height: 1; border-radius: 0.35em;\">\n",
       "    thin\n",
       "    <span style=\"font-size: 0.8em; font-weight: bold; line-height: 1; border-radius: 0.35em; vertical-align: middle; margin-left: 0.5rem\">PROCESS</span>\n",
       "</mark>\n",
       " the sauce with either more \n",
       "<mark class=\"entity\" style=\"background: linear-gradient(90deg, #aa9cfc, #fc9ce7); padding: 0.45em 0.6em; margin: 0 0.25em; line-height: 1; border-radius: 0.35em;\">\n",
       "    plant milk\n",
       "    <span style=\"font-size: 0.8em; font-weight: bold; line-height: 1; border-radius: 0.35em; vertical-align: middle; margin-left: 0.5rem\">INGREDIENT</span>\n",
       "</mark>\n",
       " or the reserved cooking pasta water.</div></span>"
      ],
      "text/plain": [
       "<IPython.core.display.HTML object>"
      ]
     },
     "metadata": {},
     "output_type": "display_data"
    }
   ],
   "source": [
    "'''\n",
    "Create and visualize training text and entities.\n",
    "'''\n",
    "\n",
    "import spacy\n",
    "from spacy import displacy\n",
    "\n",
    "# Retype test text to make sure indent spacing does not show up\n",
    "test = \"add flour and stir to cook and absorb the oil, then add in 1 cup vegan creamer or plant milk and vegan chicken bouillon paste/powder/cube, then whisk/stir vigorously until the flour has cooked and thickened in the sauce (to make the roux). add the grated vegan parm and stir to melt, then thin the sauce with either more plant milk or the reserved cooking pasta water.\"\n",
    "# To fill with corpus, body of data\n",
    "corpus = []\n",
    "\n",
    "# Blank English-based spacy nlp\n",
    "nlp = spacy.blank(\"en\")\n",
    "\n",
    "#Create the EntityRuler\n",
    "ruler = nlp.add_pipe(\"entity_ruler\") # entity ruler\n",
    "nlp.add_pipe(\"sentencizer\") # to split into sentences\n",
    "\n",
    "#List of all entities in above example\n",
    "patterns = [\n",
    "                {\"label\": \"INGREDIENT\", \"pattern\": \"flour\"},\n",
    "                {\"label\": \"INGREDIENT\", \"pattern\": \"oil\"},\n",
    "                {\"label\": \"INGREDIENT\", \"pattern\": \"vegan creamer\"},\n",
    "                {\"label\": \"INGREDIENT\", \"pattern\": \"plant milk\"},\n",
    "                {\"label\": \"INGREDIENT\", \"pattern\": \"vegan chicken bouillon\"},\n",
    "                {\"label\": \"INGREDIENT\", \"pattern\": \"vegan parm\"},\n",
    "                {\"label\": \"QUANTITY\", \"pattern\": \"1 cup\"},\n",
    "                {\"label\": \"PROCESS\", \"pattern\": \"add\"},\n",
    "                {\"label\": \"PROCESS\", \"pattern\": \"stir\"},\n",
    "                {\"label\": \"PROCESS\", \"pattern\": \"whisk\"},\n",
    "                {\"label\": \"PROCESS\", \"pattern\": \"thin\"},\n",
    "            ]\n",
    "\n",
    "# Include these patterns in entity ruler\n",
    "ruler.add_patterns(patterns)\n",
    "\n",
    "# Create nlp and add to corpus\n",
    "doc = nlp(test)\n",
    "for sent in doc.sents:\n",
    "    corpus.append(sent.text)\n",
    "\n",
    "# Use print() to check this, but also visualized below\n",
    "ents = [(ent.text,ent.label_) for ent in doc.ents]\n",
    "\n",
    "# Make some pretty label colorings for each entity label\n",
    "sentence_spans = list(doc.sents)\n",
    "colors = {\"INGREDIENT\": \"linear-gradient(90deg, #aa9cfc, #fc9ce7)\",\n",
    "          \"PROCESS\": \"linear-gradient(90deg, #3fc9a2, #a2f7b5)\",\n",
    "          \"QUANTITY\": \"linear-gradient(90deg, #787ff6, #4adede)\"}\n",
    "options = {\"colors\": colors}\n",
    "\n",
    "# Render using displacy\n",
    "displacy.render(sentence_spans, style=\"ent\", jupyter=True, options=options)"
   ]
  },
  {
   "cell_type": "markdown",
   "metadata": {},
   "source": [
    "We created our text, nlp, and additions to the *Entity Ruler*. Using `displacy` with a few custom color gradients makes it look quite nice, but also makes it super easy for the human eye to look at and pick out any issues. Because it's a word-by-word basis, everything is correct!\n",
    "\n",
    "Next, we create a small dataset with this data. Now, we aren't doing anything with these two sentences right now (although we will be scraping through the page that it's hosted on for it), but this is a nice way to simply show how spaCy training data are formatted and used."
   ]
  },
  {
   "cell_type": "code",
   "execution_count": 71,
   "metadata": {},
   "outputs": [
    {
     "name": "stdout",
     "output_type": "stream",
     "text": [
      "\n",
      " Train Data formatted for use of spaCy: \n",
      "\n",
      "[['add flour and stir to cook and absorb the oil, then add in 1 cup vegan creamer or plant milk and vegan chicken bouillon paste/powder/cube, then whisk/stir vigorously until the flour has cooked and thickened in the sauce (to make the roux).', {'entities': [[0, 3, 'PROCESS'], [4, 9, 'INGREDIENT'], [14, 18, 'PROCESS'], [42, 45, 'INGREDIENT'], [52, 55, 'PROCESS'], [59, 64, 'QUANTITY'], [65, 78, 'INGREDIENT'], [82, 92, 'INGREDIENT'], [97, 119, 'INGREDIENT'], [144, 149, 'PROCESS'], [150, 154, 'PROCESS'], [176, 181, 'INGREDIENT']]}], ['add the grated vegan parm and stir to melt, then thin the sauce with either more plant milk or the reserved cooking pasta water.', {'entities': [[0, 3, 'PROCESS'], [15, 25, 'INGREDIENT'], [30, 34, 'PROCESS'], [49, 53, 'PROCESS'], [81, 91, 'INGREDIENT']]}]]\n"
     ]
    }
   ],
   "source": [
    "'''\n",
    "Create the training data following the code block above.\n",
    "'''\n",
    "\n",
    "TRAIN_DATA = [] # Empty data beforehand\n",
    "\n",
    "# Iterate through sentences in body of data\n",
    "for sentence in corpus:\n",
    "    doc = nlp(sentence)\n",
    "    entities = []\n",
    "    # For every entity found...\n",
    "    for ent in doc.ents:\n",
    "        # Append locations labels of each entity in text\n",
    "        entities.append([ent.start_char, ent.end_char, ent.label_])\n",
    "    TRAIN_DATA.append([sentence, {\"entities\": entities}])\n",
    "\n",
    "print(\"\\n Train Data formatted for use of spaCy: \\n\")\n",
    "print(TRAIN_DATA)"
   ]
  },
  {
   "cell_type": "markdown",
   "metadata": {},
   "source": [
    "This is how spaCy training data is formatted. Within a pair of `[]`, each `[]` contains a sentence followed by the entity locations and their labels. Using this, spaCy can build a model entirely based on an empty English model! This is what we're using for our **Recipe NER**."
   ]
  },
  {
   "cell_type": "markdown",
   "metadata": {},
   "source": [
    "### Step 3: Build the Real Training Dataset\n",
    "\n",
    "As we see above, we can see how we can create training data for spaCy to use. Let's go through how we can do this.\n",
    "\n",
    "In the **label_data** folder, we create three *json* files: `processes.json`, `quantities.json`, and `ingredients.json`."
   ]
  },
  {
   "cell_type": "code",
   "execution_count": 61,
   "metadata": {},
   "outputs": [],
   "source": [
    "'''\n",
    "Create quantities\n",
    "'''\n",
    "import json\n",
    "\n",
    "# create bases list for quantities\n",
    "quantity_bases = [\"tsp\",\"teaspoon\",\"tbsp\",\"tablespoon\",\"cup\",\"pt\",\"pint\",\"qt\",\"quart\",\"gal\",\"gallon\",\"ml\",\"milliliter\",\"oz\",\"ounce\",\"g\",\"gram\"]\n",
    "# add plural cases to list\n",
    "quantity_bases = quantity_bases + [quantity_base+\"s\" for quantity_base in quantity_bases]\n",
    "# we're combining these cases, because we never know when there'll be a typo :)\n",
    "\n",
    "#print(quantity_bases)\n",
    "\n",
    "# create a list of possible fractions to use\n",
    "possible_fractions = [\"1/2\",\n",
    "                      \"1/3\",\"2/3\",\n",
    "                      \"1/4\", \"3/4\",\n",
    "                      \"1/8\", \"5/8\",\"7/8\",\n",
    "                      \"1/16\"]\n",
    "\n",
    "# finally, complete the quantity list\n",
    "quantities_list = []\n",
    "frac_quantities_list = []\n",
    "int_quantities_list = []\n",
    "comb_quantities_list = []\n",
    "\n",
    "LARGEST_QUANTITY = 800\n",
    "\n",
    "for quantity_base in quantity_bases:\n",
    "  # into case of each int portion\n",
    "  for i in range(LARGEST_QUANTITY):\n",
    "    int_quantity = f\"{i+1} {quantity_base}\"\n",
    "    int_quantities_list.append(int_quantity)\n",
    "  # into case of each fraction portion\n",
    "  for frac in possible_fractions:\n",
    "    portion_quantity = f\"{frac} {quantity_base}\"\n",
    "    frac_quantities_list.append(portion_quantity)\n",
    "    # add combined cases for each (ie 1 1/2 tsp)\n",
    "    for i in range(LARGEST_QUANTITY):\n",
    "      comb_quantity = f\"{i+1} {frac} {quantity_base}\"\n",
    "      comb_quantities_list.append(comb_quantity)\n",
    "# combine all cases\n",
    "quantities_list.sort()\n",
    "quantities_list = int_quantities_list+frac_quantities_list+comb_quantities_list\n",
    "\n",
    "with open('./label_data/quantities.json', 'w', encoding='utf-8') as f:\n",
    "  json.dump(quantities_list, f)\n"
   ]
  }
 ],
 "metadata": {
  "interpreter": {
   "hash": "87e9424282fee367a613829a24313dcfd760b69628e0f20ccb976688224f5c71"
  },
  "kernelspec": {
   "display_name": "Python 3.6.13 64-bit ('jupyter': conda)",
   "language": "python",
   "name": "python3"
  },
  "language_info": {
   "codemirror_mode": {
    "name": "ipython",
    "version": 3
   },
   "file_extension": ".py",
   "mimetype": "text/x-python",
   "name": "python",
   "nbconvert_exporter": "python",
   "pygments_lexer": "ipython3",
   "version": "3.6.13"
  },
  "orig_nbformat": 4
 },
 "nbformat": 4,
 "nbformat_minor": 2
}

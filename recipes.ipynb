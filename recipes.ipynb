{
 "cells": [
  {
   "cell_type": "markdown",
   "metadata": {},
   "source": [
    "# Reading Recipes with spaCy for Named Entity Recognition (NER)\n",
    "\n",
    "## Installing and Using spaCy\n",
    "Sometimes getting spaCy installed correctly is a bit of a challenge.\n",
    "It's good to check that the expected versions and packages are recognized before writing any code.\n",
    "If you don't have spaCy installed, the [spaCy 101: Everything you need to know](https://spacy.io/usage) guide has an interactive tool that will generate the commands you need to run.\n",
    "Make sure to select your operating system and package manager of choice, then enable `train_models` and select `accuracy`.\n",
    "We are going to use the CPU for now, because training spaCy models on a GPU involves large transformers that require >10GB of graphics RAM."
   ]
  },
  {
   "cell_type": "code",
   "execution_count": 25,
   "metadata": {},
   "outputs": [
    {
     "name": "stdout",
     "output_type": "stream",
     "text": [
      "\n",
      "⠙ Loading compatibility table...\n",
      "⠹ Loading compatibility table...\n",
      "⠸ Loading compatibility table...\n",
      "⠼ Loading compatibility table...\n",
      "⠴ Loading compatibility table...\n",
      "⠦ Loading compatibility table...\n",
      "⠧ Loading compatibility table...\n",
      "⠇ Loading compatibility table...\n",
      "⠏ Loading compatibility table...\n",
      "⠙ Loading compatibility table...\n",
      "\u001b[2K✔ Loaded compatibility table\n",
      "\u001b[1m\n",
      "================= Installed pipeline packages (spaCy v3.1.3) =================\u001b[0m\n",
      "ℹ spaCy installation:\n",
      "C:\\Users\\elvis\\anaconda3\\envs\\jupyter\\lib\\site-packages\\spacy\n",
      "\n",
      "NAME              SPACY            VERSION    \n",
      "en_core_web_lg    >=3.1.0,<3.2.0   3.1.0     ✔\n",
      "en_core_web_sm    >=3.1.0,<3.2.0   3.1.0     ✔\n",
      "en_core_web_trf   >=3.1.0,<3.2.0   3.1.0     ✔\n",
      "\n"
     ]
    }
   ],
   "source": [
    "'''\n",
    "Validate spacy installs, compatability for version used\n",
    "'''\n",
    "!python -m spacy validate\n",
    "import spacy"
   ]
  },
  {
   "cell_type": "markdown",
   "metadata": {},
   "source": [
    "The following cell disables an optimization for Intel processors that can cause the jupyter kernel to crash.\n",
    "You can skip this and only run it if you encounter crashes while training."
   ]
  },
  {
   "cell_type": "code",
   "execution_count": 26,
   "metadata": {},
   "outputs": [],
   "source": [
    "'''\n",
    "During training the Jupyter kernel crashes without this set\n",
    "it has to do with a Intel specifc optimization that sometimes\n",
    "doesn't play well with certain versions of things\n",
    "'''\n",
    "import os\n",
    "os.environ['KMP_DUPLICATE_LIB_OK']='True'"
   ]
  },
  {
   "cell_type": "markdown",
   "metadata": {},
   "source": [
    "## spaCy Demo: NER and Visualization Basics\n",
    "Here, we are trying to see how we can get spaCy to perform NER.\n",
    "First, let's see what the base NER can do, and visualize it nicely with `displacy`.\n",
    "\n",
    "Here, let's use a two-sentence text, and run the entity labeler based on the small English model and the large English model.\n",
    "From this, we can learn a few things about these spaCy models and how we may create our own."
   ]
  },
  {
   "cell_type": "code",
   "execution_count": 27,
   "metadata": {},
   "outputs": [
    {
     "name": "stdout",
     "output_type": "stream",
     "text": [
      "Small Model:\n",
      "[('Hedgehog', 'PRODUCT'), ('Japanese', 'NORP'), ('Sega', 'PERSON')]\n",
      "[('Sonic', 'ORG'), ('Eggman', 'PERSON')]\n",
      "Large Model:\n",
      "[('Japanese', 'NORP'), ('Sega', 'ORG')]\n",
      "[('Sonic', 'ORG'), ('Eggman', 'PERSON')]\n"
     ]
    }
   ],
   "source": [
    "# Text taken from Sonic Wikipedia page\n",
    "texts = [\n",
    "    \"Sonic the Hedgehog is a Japanese video game series and media franchise created and owned by Sega.\",\n",
    "    \"The franchise follows Sonic, an anthropomorphic blue hedgehog who battles the evil Doctor Eggman, a mad scientist.\",\n",
    "]\n",
    "\n",
    "# Example using small English pre-trained model\n",
    "print(\"Small Model:\")\n",
    "nlp = spacy.load(\"en_core_web_sm\")\n",
    "for doc in nlp.pipe(texts, disable=[\"tok2vec\", \"tagger\", \"parser\", \"attribute_ruler\", \"lemmatizer\"]):\n",
    "    # Do something with the doc here\n",
    "    print([(ent.text, ent.label_) for ent in doc.ents])\n",
    "\n",
    "# Example using large English pre-trained model\n",
    "print(\"Large Model:\")\n",
    "nlp = spacy.load(\"en_core_web_lg\")\n",
    "for doc in nlp.pipe(texts, disable=[\"tok2vec\", \"tagger\", \"parser\", \"attribute_ruler\", \"lemmatizer\"]):\n",
    "    # Do something with the doc here\n",
    "    print([(ent.text, ent.label_) for ent in doc.ents])"
   ]
  },
  {
   "cell_type": "markdown",
   "metadata": {},
   "source": [
    "From the start, we see some issues the way that entities are found and labeled. \n",
    "Using the **small English model**, it says that *Hedgehog* in this case is a PRODUCT, *Sega* is a PERSON rather than an ORG, and *Sonic* is an ORG when it is referring to the character. \n",
    "The **large English model**, however, correctly labels *Sega* as an ORG, and does not label *Hedgehog* as a PRODUCT.\n",
    "We can see the possible reasoning for *Sonic* to still be mislabeled, as *Sonic* also refers to the fast-food chain, and the model may have been trained based on that.\n",
    "\n",
    "With these two comparisons, we can see how creating a large training model will be very, very important for this project to work well!\n",
    "\n",
    "Next, let's create some pretty graphics representing the entity labeling using `displacy`!\n",
    "We're going to use a new, short sentence."
   ]
  },
  {
   "cell_type": "code",
   "execution_count": 28,
   "metadata": {},
   "outputs": [
    {
     "data": {
      "text/html": [
       "<span class=\"tex2jax_ignore\"><h2 style=\"margin: 0\">Example Render of Entity Recognizer</h2>\n",
       "\n",
       "<div class=\"entities\" style=\"line-height: 2.5; direction: ltr\">\n",
       "<mark class=\"entity\" style=\"background: linear-gradient(90deg, #aa9cfc, #fc9ce7); padding: 0.45em 0.6em; margin: 0 0.25em; line-height: 1; border-radius: 0.35em;\">\n",
       "    Apple\n",
       "    <span style=\"font-size: 0.8em; font-weight: bold; line-height: 1; border-radius: 0.35em; vertical-align: middle; margin-left: 0.5rem\">ORG</span>\n",
       "</mark>\n",
       " is looking at buying \n",
       "<mark class=\"entity\" style=\"background: #feca74; padding: 0.45em 0.6em; margin: 0 0.25em; line-height: 1; border-radius: 0.35em;\">\n",
       "    U.K.\n",
       "    <span style=\"font-size: 0.8em; font-weight: bold; line-height: 1; border-radius: 0.35em; vertical-align: middle; margin-left: 0.5rem\">GPE</span>\n",
       "</mark>\n",
       " startup for \n",
       "<mark class=\"entity\" style=\"background: #e4e7d2; padding: 0.45em 0.6em; margin: 0 0.25em; line-height: 1; border-radius: 0.35em;\">\n",
       "    $1 billion\n",
       "    <span style=\"font-size: 0.8em; font-weight: bold; line-height: 1; border-radius: 0.35em; vertical-align: middle; margin-left: 0.5rem\">MONEY</span>\n",
       "</mark>\n",
       "</div></span>"
      ],
      "text/plain": [
       "<IPython.core.display.HTML object>"
      ]
     },
     "metadata": {},
     "output_type": "display_data"
    }
   ],
   "source": [
    "'''\n",
    "Example with Visualizations\n",
    "'''\n",
    "from spacy import displacy\n",
    "\n",
    "nlp = spacy.load(\"en_core_web_lg\")\n",
    "doc = nlp(\"Apple is looking at buying U.K. startup for $1 billion\")\n",
    "\n",
    "# just like with anti-trust law, lets give apple some special treatment\n",
    "colors = {\"ORG\": \"linear-gradient(90deg, #aa9cfc, #fc9ce7)\"}\n",
    "options = {\"colors\": colors}\n",
    "doc.user_data[\"title\"] = \"Example Render of Entity Recognizer\"\n",
    "displacy.render(doc, style=\"ent\", jupyter=True, options=options)"
   ]
  },
  {
   "cell_type": "markdown",
   "metadata": {},
   "source": [
    "Wow!\n",
    "Not only does it look great, we can see how well spaCy can perform when the data is similar to what the model was trained on.\n",
    "We'll end up with our own model that works just as well - except it can read recipes."
   ]
  },
  {
   "cell_type": "markdown",
   "metadata": {},
   "source": [
    "# Create Training Data\n",
    "After we did some smaller tests to see how spaCy is working, let's compile the datasets into valuable training data to train our own model.\n",
    "This will then be used in order to create everything we need to deal with new data.\n",
    "We're doing this with the **recipe** text we want to eventually use!"
   ]
  },
  {
   "cell_type": "markdown",
   "metadata": {},
   "source": [
    "### Step 1: See What Spacy Already Labels\n",
    "First, let's see how it works with text from a recipe.\n",
    "This will help us know how to build our model and how to format our dataset.\n",
    "With this, we can see what entities spaCy looks for when given a recipe."
   ]
  },
  {
   "cell_type": "code",
   "execution_count": 29,
   "metadata": {},
   "outputs": [
    {
     "name": "stdout",
     "output_type": "stream",
     "text": [
      "1 CARDINAL\n"
     ]
    }
   ],
   "source": [
    "'''\n",
    "Example using Recipe Text\n",
    "'''\n",
    "test = \"add flour and stir to cook and absorb the oil, then add in 1 cup vegan\\\n",
    "        creamer or plant milk and vegan chicken bouillon paste/powder/cube, then whisk/stir\\\n",
    "        vigorously until the flour has cooked and thickened in the sauce (to make the roux).\\\n",
    "         add the grated vegan parm and stir to melt, then thin the sauce with either more\\\n",
    "        plant milk or the reserved cooking pasta water.\"\n",
    "nlp = spacy.load(\"en_core_web_lg\")\n",
    "doc = nlp(test)\n",
    "for ent in doc.ents:\n",
    "    print(ent.text, ent.label_)"
   ]
  },
  {
   "cell_type": "markdown",
   "metadata": {},
   "source": [
    "Things are looking too good for our budding AI chef.\n",
    "It seems that spaCy is only able to pick out cardinals from our sample text.\n",
    "That's fine! \n",
    "In the next step, we're going to look on how to create connected entities and labels, the first step for creating the dataset we need."
   ]
  },
  {
   "cell_type": "markdown",
   "metadata": {},
   "source": [
    "### Step 2: Build a Small Training Dataset Example\n",
    "\n",
    "We want to build our dataset to be able to detect three things: **ingredients**, **quantities**, and **processes**.\n",
    "And, we are able to do just that. \n",
    "Let's manually do that now with the example above, but start off with a blank spacy nlp, so that labels such as cardinals are disregarded\n",
    " Without doing this, **quantities** that include numbers will be labeled as cardinals instead.\n",
    "\n",
    "Examples of each label:\n",
    "* **Ingredients**: Flour, sugar, apple sauce...\n",
    "* **Quantities**: 1 cup, 1/4 tablespoon, 1 teaspoon...\n",
    "* **Processes**: Mix, stir, fry..."
   ]
  },
  {
   "cell_type": "code",
   "execution_count": 32,
   "metadata": {},
   "outputs": [],
   "source": [
    "'''\n",
    "Create and visualize training text and entities.\n",
    "'''\n",
    "\n",
    "# Retype test text to make sure indent spacing does not show up\n",
    "test = \"add flour and stir to cook and absorb the oil, then add in 1 cup vegan creamer or plant milk and vegan chicken bouillon paste/powder/cube, then whisk/stir vigorously until the flour has cooked and thickened in the sauce (to make the roux). add the grated vegan parm and stir to melt, then thin the sauce with either more plant milk or the reserved cooking pasta water.\"\n",
    "\n",
    "# List of all entities in above example\n",
    "patterns = [\n",
    "                {\"label\": \"INGREDIENT\", \"pattern\": \"flour\"},\n",
    "                {\"label\": \"INGREDIENT\", \"pattern\": \"oil\"},\n",
    "                {\"label\": \"INGREDIENT\", \"pattern\": \"vegan creamer\"},\n",
    "                {\"label\": \"INGREDIENT\", \"pattern\": \"plant milk\"},\n",
    "                {\"label\": \"INGREDIENT\", \"pattern\": \"vegan chicken bouillon\"},\n",
    "                {\"label\": \"INGREDIENT\", \"pattern\": \"vegan parm\"},\n",
    "                {\"label\": \"QUANTITY\", \"pattern\": \"1 cup\"},\n",
    "                {\"label\": \"PROCESS\", \"pattern\": \"add\"},\n",
    "                {\"label\": \"PROCESS\", \"pattern\": \"stir\"},\n",
    "                {\"label\": \"PROCESS\", \"pattern\": \"whisk\"},\n",
    "                {\"label\": \"PROCESS\", \"pattern\": \"thin\"},\n",
    "            ]"
   ]
  },
  {
   "cell_type": "markdown",
   "metadata": {},
   "source": [
    "To start, we can create a blank spaCy model.\n",
    "With just one line of code we have the powerful architecture of spaCy at our fingertips!\n",
    "For now, our pipeline will consist of the `sentencizer` and `entity_ruler` to split the text into sentences and identify identities using the rules we just wrote."
   ]
  },
  {
   "cell_type": "code",
   "execution_count": null,
   "metadata": {},
   "outputs": [],
   "source": [
    "# Blank English-based spacy nlp\n",
    "nlp = spacy.blank(\"en\")\n",
    "\n",
    "# Create the EntityRuler\n",
    "ruler = nlp.add_pipe(\"entity_ruler\") # entity ruler\n",
    "nlp.add_pipe(\"sentencizer\") # to split into sentences"
   ]
  },
  {
   "cell_type": "markdown",
   "metadata": {},
   "source": [
    "Then, we can load our rules into the entity ruler for our pipeline.\n",
    "Without this step, our pipeline will do nothing."
   ]
  },
  {
   "cell_type": "code",
   "execution_count": null,
   "metadata": {},
   "outputs": [],
   "source": [
    "ruler.add_patterns(patterns)"
   ]
  },
  {
   "cell_type": "markdown",
   "metadata": {},
   "source": [
    "Then, we can feed data into our pipeline and see how it performs."
   ]
  },
  {
   "cell_type": "code",
   "execution_count": null,
   "metadata": {},
   "outputs": [],
   "source": [
    "# corpus is latin for body and is a fancy way of referring to our sentences\n",
    "corpus = []\n",
    "doc = nlp(test)\n",
    "for sent in doc.sents:\n",
    "    corpus.append(sent.text)\n",
    "\n",
    "# Use print() to check this, but also visualized below\n",
    "ents = [(ent.text,ent.label_) for ent in doc.ents]\n",
    "\n",
    "# Make some pretty label colorings for each entity label\n",
    "sentence_spans = list(doc.sents)\n",
    "colors = {\"INGREDIENT\": \"linear-gradient(90deg, #aa9cfc, #fc9ce7)\",\n",
    "          \"PROCESS\": \"linear-gradient(90deg, #3fc9a2, #a2f7b5)\",\n",
    "          \"QUANTITY\": \"linear-gradient(90deg, #787ff6, #4adede)\"}\n",
    "options = {\"colors\": colors}\n",
    "\n",
    "# Render using displacy\n",
    "displacy.render(sentence_spans, style=\"ent\", jupyter=True, options=options)"
   ]
  },
  {
   "cell_type": "markdown",
   "metadata": {},
   "source": [
    "We created our text, nlp, and additions to the *Entity Ruler*. Using `displacy` with a few custom color gradients makes it look quite nice, but also makes it super easy for the human eye to look at and pick out any issues.\n",
    "Because it's a word-by-word basis, everything is correct!\n",
    "However, if we try a new ingredient it won't be recognized."
   ]
  },
  {
   "cell_type": "code",
   "execution_count": 33,
   "metadata": {},
   "outputs": [
    {
     "data": {
      "text/html": [
       "<span class=\"tex2jax_ignore\"><div class=\"entities\" style=\"line-height: 2.5; direction: ltr\">\n",
       "<mark class=\"entity\" style=\"background: linear-gradient(90deg, #3fc9a2, #a2f7b5); padding: 0.45em 0.6em; margin: 0 0.25em; line-height: 1; border-radius: 0.35em;\">\n",
       "    add\n",
       "    <span style=\"font-size: 0.8em; font-weight: bold; line-height: 1; border-radius: 0.35em; vertical-align: middle; margin-left: 0.5rem\">PROCESS</span>\n",
       "</mark>\n",
       " \n",
       "<mark class=\"entity\" style=\"background: linear-gradient(90deg, #787ff6, #4adede); padding: 0.45em 0.6em; margin: 0 0.25em; line-height: 1; border-radius: 0.35em;\">\n",
       "    1 cup\n",
       "    <span style=\"font-size: 0.8em; font-weight: bold; line-height: 1; border-radius: 0.35em; vertical-align: middle; margin-left: 0.5rem\">QUANTITY</span>\n",
       "</mark>\n",
       " of water and \n",
       "<mark class=\"entity\" style=\"background: linear-gradient(90deg, #787ff6, #4adede); padding: 0.45em 0.6em; margin: 0 0.25em; line-height: 1; border-radius: 0.35em;\">\n",
       "    1 cup\n",
       "    <span style=\"font-size: 0.8em; font-weight: bold; line-height: 1; border-radius: 0.35em; vertical-align: middle; margin-left: 0.5rem\">QUANTITY</span>\n",
       "</mark>\n",
       " of \n",
       "<mark class=\"entity\" style=\"background: linear-gradient(90deg, #aa9cfc, #fc9ce7); padding: 0.45em 0.6em; margin: 0 0.25em; line-height: 1; border-radius: 0.35em;\">\n",
       "    flour\n",
       "    <span style=\"font-size: 0.8em; font-weight: bold; line-height: 1; border-radius: 0.35em; vertical-align: middle; margin-left: 0.5rem\">INGREDIENT</span>\n",
       "</mark>\n",
       "</div></span>"
      ],
      "text/plain": [
       "<IPython.core.display.HTML object>"
      ]
     },
     "metadata": {},
     "output_type": "display_data"
    }
   ],
   "source": [
    "test = \"add 1 cup of water and 1 cup of flour\"\n",
    "corpus = []\n",
    "doc = nlp(test)\n",
    "for sent in doc.sents:\n",
    "    corpus.append(sent.text)\n",
    "\n",
    "# Use print() to check this, but also visualized below\n",
    "ents = [(ent.text,ent.label_) for ent in doc.ents]\n",
    "\n",
    "# Make some pretty label colorings for each entity label\n",
    "sentence_spans = list(doc.sents)\n",
    "colors = {\"INGREDIENT\": \"linear-gradient(90deg, #aa9cfc, #fc9ce7)\",\n",
    "          \"PROCESS\": \"linear-gradient(90deg, #3fc9a2, #a2f7b5)\",\n",
    "          \"QUANTITY\": \"linear-gradient(90deg, #787ff6, #4adede)\"}\n",
    "options = {\"colors\": colors}\n",
    "\n",
    "# Render using displacy\n",
    "displacy.render(sentence_spans, style=\"ent\", jupyter=True, options=options)"
   ]
  },
  {
   "cell_type": "markdown",
   "metadata": {},
   "source": [
    "Next, we create a small dataset with this data.\n",
    "Now, we aren't doing anything with these two sentences right now (although we will be scraping through the page that it's hosted on for it), but it should help us understand how spaCy training data are formatted and used.\n",
    "\n",
    "The important insight here is that we can take unlabled data, write some rules and have spaCy label our data for us.\n",
    "Although it won't be perfect if we miss some entities, it avoids what would otherwise be hundreds of hours of manual labeling."
   ]
  },
  {
   "cell_type": "code",
   "execution_count": 6,
   "metadata": {},
   "outputs": [
    {
     "name": "stdout",
     "output_type": "stream",
     "text": [
      "\n",
      " Train Data formatted for use of spaCy: \n",
      "\n",
      "[['add flour and stir to cook and absorb the oil, then add in 1 cup vegan creamer or plant milk and vegan chicken bouillon paste/powder/cube, then whisk/stir vigorously until the flour has cooked and thickened in the sauce (to make the roux).', {'entities': [[0, 3, 'PROCESS'], [4, 9, 'INGREDIENT'], [14, 18, 'PROCESS'], [42, 45, 'INGREDIENT'], [52, 55, 'PROCESS'], [59, 64, 'QUANTITY'], [65, 78, 'INGREDIENT'], [82, 92, 'INGREDIENT'], [97, 119, 'INGREDIENT'], [144, 149, 'PROCESS'], [150, 154, 'PROCESS'], [176, 181, 'INGREDIENT']]}], ['add the grated vegan parm and stir to melt, then thin the sauce with either more plant milk or the reserved cooking pasta water.', {'entities': [[0, 3, 'PROCESS'], [15, 25, 'INGREDIENT'], [30, 34, 'PROCESS'], [49, 53, 'PROCESS'], [81, 91, 'INGREDIENT']]}]]\n"
     ]
    }
   ],
   "source": [
    "'''\n",
    "Create the example training data.\n",
    "'''\n",
    "\n",
    "TRAIN_DATA = [] # Empty data beforehand\n",
    "\n",
    "# Iterate through sentences in body of data\n",
    "for sentence in corpus:\n",
    "    doc = nlp(sentence)\n",
    "    entities = []\n",
    "    # For every entity found...\n",
    "    for ent in doc.ents:\n",
    "        # Append locations labels of each entity in text\n",
    "        entities.append([ent.start_char, ent.end_char, ent.label_])\n",
    "    TRAIN_DATA.append([sentence, {\"entities\": entities}])\n",
    "\n",
    "print(\"\\n Train Data formatted for use of spaCy: \\n\")\n",
    "print(TRAIN_DATA)"
   ]
  },
  {
   "cell_type": "markdown",
   "metadata": {},
   "source": [
    "For each sentence we now have a tuple with the sentence text and the locations and entity types.\n",
    "Using this, spaCy can build a model entirely based on an empty English model!\n",
    "This is what we will use for our **Recipe NER**."
   ]
  },
  {
   "cell_type": "markdown",
   "metadata": {},
   "source": [
    "### Step 3: Build the Real Training Dataset\n",
    "\n",
    "We can now see how we can create training data for spaCy to use.\n",
    "Let's go ahead and make a real dataset.\n",
    "\n",
    "In the **label_data** folder, we will create three *json* files: `processes.json`, `quantities.json`, and `ingredients.json`.\n",
    "\n",
    "Just like before, we are starting by creating some data by hand. \n",
    "In some cases, we can programmatically generate hundreds of possible combinations. \n",
    "Other times, we will have to just build a list by hand."
   ]
  },
  {
   "cell_type": "code",
   "execution_count": 34,
   "metadata": {},
   "outputs": [],
   "source": [
    "'''\n",
    "Functions for Reading and Writing JSON Files\n",
    "'''\n",
    "\n",
    "def load_data(file):\n",
    "    with open(file, \"r\", encoding=\"utf-8\") as f:\n",
    "        data = json.load(f)\n",
    "    return (data)\n",
    "\n",
    "def write_data(file, data):\n",
    "    with open(file, \"w\", encoding=\"utf-8\") as f:\n",
    "        json.dump(data, f)"
   ]
  },
  {
   "cell_type": "code",
   "execution_count": 35,
   "metadata": {},
   "outputs": [],
   "source": [
    "'''\n",
    "Create quantities\n",
    "'''\n",
    "import json\n",
    "\n",
    "# create bases list for quantities\n",
    "quantity_bases = [\"tsp\",\"teaspoon\",\"tbsp\",\"tablespoon\",\"cup\",\"pt\",\"pint\",\"qt\",\"quart\",\"gal\",\"gallon\",\"ml\",\"milliliter\",\"oz\",\"ounce\",\"g\",\"gram\"]\n",
    "# add plural cases to list\n",
    "quantity_bases = quantity_bases + [quantity_base+\"s\" for quantity_base in quantity_bases]\n",
    "# we're combining these cases, because we never know when there'll be a typo :)\n",
    "\n",
    "#print(quantity_bases)\n",
    "\n",
    "# create a list of possible fractions to use\n",
    "possible_fractions = [\"1/2\",\n",
    "                      \"1/3\",\"2/3\",\n",
    "                      \"1/4\", \"3/4\",\n",
    "                      \"1/8\", \"5/8\",\"7/8\",\n",
    "                      \"1/16\"]\n",
    "\n",
    "# finally, complete the quantity list\n",
    "quantities_list = []\n",
    "frac_quantities_list = []\n",
    "int_quantities_list = []\n",
    "comb_quantities_list = []\n",
    "\n",
    "LARGEST_INT_QUANTITY = 800\n",
    "SMALLEST_INT_QUANTITY = 10\n",
    "\n",
    "for quantity_base in quantity_bases:\n",
    "  # into case of each int portion\n",
    "  for i in range(LARGEST_INT_QUANTITY):\n",
    "    int_quantity = f\"{i+1} {quantity_base}\"\n",
    "    int_quantities_list.append(int_quantity)\n",
    "  # into case of each fraction portion\n",
    "  for frac in possible_fractions:\n",
    "    portion_quantity = f\"{frac} {quantity_base}\"\n",
    "    frac_quantities_list.append(portion_quantity)\n",
    "    # add combined cases for each (ie 1 1/2 tsp)\n",
    "    for i in range(SMALLEST_INT_QUANTITY):\n",
    "      comb_quantity = f\"{i+1} {frac} {quantity_base}\"\n",
    "      comb_quantities_list.append(comb_quantity)\n",
    "# combine all cases\n",
    "quantities_list.sort()\n",
    "quantities_list = int_quantities_list+frac_quantities_list+comb_quantities_list\n",
    "\n",
    "# add to json file\n",
    "write_data('./label_data/quantities.json', quantities_list)\n"
   ]
  },
  {
   "cell_type": "markdown",
   "metadata": {},
   "source": [
    "# Creating and Testing Training Data\n",
    "\n",
    "In the tutorial for obtaining data, we were able to use a simple regular expression (another form of pattern matching) to identify many of the entities in the dataset we will be training on.\n",
    "We can combine this with the lists we generated to create a very comprehensive set of patterns."
   ]
  },
  {
   "cell_type": "code",
   "execution_count": 37,
   "metadata": {},
   "outputs": [
    {
     "data": {
      "text/plain": [
       "36285"
      ]
     },
     "execution_count": 37,
     "metadata": {},
     "output_type": "execute_result"
    }
   ],
   "source": [
    "'''\n",
    "Create training data\n",
    "'''\n",
    "\n",
    "def create_training_data(file, type):\n",
    "  data = load_data(file)\n",
    "  patterns = []\n",
    "  for item in data:\n",
    "    pattern = {\n",
    "      \"label\": type,\n",
    "      \"pattern\": item\n",
    "    }\n",
    "    patterns.append(pattern)\n",
    "  return patterns\n",
    "\n",
    "\n",
    "# Run it through the datasets that were created\n",
    "processes_patterns = create_training_data(\"label_data/processes.json\", \"PROCESS\")\n",
    "quantities_patterns = create_training_data(\"label_data/quantities.json\", \"QUANTITY\")\n",
    "dataset_quantities_patterns = create_training_data(\"scraper/data/quantities.json\", \"QUANTITY\")\n",
    "dataset_ingredients_patterns = create_training_data(\"scraper/data/ingredients.json\", \"INGREDIENT\")\n",
    "\n",
    "# All patterns combined\n",
    "all_patterns = processes_patterns + quantities_patterns + dataset_quantities_patterns + dataset_ingredients_patterns\n",
    "len(all_patterns)"
   ]
  },
  {
   "cell_type": "markdown",
   "metadata": {},
   "source": [
    "## Generate EntityRules\n",
    "\n",
    "We can use our list of over 36,000 patterns to create a powerful entity ruler that will label our dataset."
   ]
  },
  {
   "cell_type": "code",
   "execution_count": 38,
   "metadata": {},
   "outputs": [],
   "source": [
    "'''\n",
    "Generate Rules in spaCy\n",
    "'''\n",
    "\n",
    "def generate_rules(patterns):\n",
    "  # Blank English-based spacy nlp\n",
    "  nlp = spacy.blank(\"en\")\n",
    "  # Create the EntityRuler\n",
    "  ruler = nlp.add_pipe(\"entity_ruler\") # entity ruler\n",
    "  nlp.add_pipe(\"sentencizer\") # to split into sentences\n",
    "  ruler.add_patterns(patterns) # add patterns\n",
    "  # Save spaCy files to disk\n",
    "  nlp.to_disk(\"recipes_ner_ruler\")\n",
    "\n",
    "generate_rules(all_patterns)"
   ]
  },
  {
   "cell_type": "markdown",
   "metadata": {},
   "source": [
    "## Test the model on example\n",
    "\n",
    "Before we run the ruler on the thousands of recipes in our dataset, let's test it on an example to make sure it's working how we expect.\n"
   ]
  },
  {
   "cell_type": "code",
   "execution_count": 48,
   "metadata": {},
   "outputs": [
    {
     "name": "stdout",
     "output_type": "stream",
     "text": [
      "['prepare the cauliflower and seasoning salt. first, cut the cauliflower in half and cut out bite-sized florets. in a large bowl, mix together the garlic salt, paprika/cayenne pepper, white pepper, ground ginger, soy sauce, and oat milk. toss the cauliflower florets in the oat milk mixture. cover the bowl with a plastic wrap, and let chill in the refrigerator for an hour. meanwhile, prepare the seasoning salt by mixing together all the seasoning salt ingredients.', {'entities': [(12, 23, 'INGREDIENT'), (38, 43, 'INGREDIENT'), (59, 70, 'INGREDIENT'), (102, 109, 'INGREDIENT'), (128, 131, 'PROCESS'), (145, 156, 'INGREDIENT'), (158, 180, 'INGREDIENT'), (182, 194, 'INGREDIENT'), (196, 209, 'INGREDIENT'), (211, 221, 'INGREDIENT'), (226, 234, 'INGREDIENT'), (245, 264, 'INGREDIENT'), (272, 280, 'INGREDIENT'), (320, 324, 'PROCESS'), (406, 410, 'INGREDIENT'), (414, 420, 'PROCESS'), (448, 452, 'INGREDIENT')]}]\n"
     ]
    },
    {
     "data": {
      "text/html": [
       "<span class=\"tex2jax_ignore\"><div class=\"entities\" style=\"line-height: 2.5; direction: ltr\">prepare the \n",
       "<mark class=\"entity\" style=\"background: linear-gradient(90deg, #aa9cfc, #fc9ce7); padding: 0.45em 0.6em; margin: 0 0.25em; line-height: 1; border-radius: 0.35em;\">\n",
       "    cauliflower\n",
       "    <span style=\"font-size: 0.8em; font-weight: bold; line-height: 1; border-radius: 0.35em; vertical-align: middle; margin-left: 0.5rem\">INGREDIENT</span>\n",
       "</mark>\n",
       " and seasoning \n",
       "<mark class=\"entity\" style=\"background: linear-gradient(90deg, #aa9cfc, #fc9ce7); padding: 0.45em 0.6em; margin: 0 0.25em; line-height: 1; border-radius: 0.35em;\">\n",
       "    salt.\n",
       "    <span style=\"font-size: 0.8em; font-weight: bold; line-height: 1; border-radius: 0.35em; vertical-align: middle; margin-left: 0.5rem\">INGREDIENT</span>\n",
       "</mark>\n",
       " </div>\n",
       "\n",
       "<div class=\"entities\" style=\"line-height: 2.5; direction: ltr\">first, cut the \n",
       "<mark class=\"entity\" style=\"background: linear-gradient(90deg, #aa9cfc, #fc9ce7); padding: 0.45em 0.6em; margin: 0 0.25em; line-height: 1; border-radius: 0.35em;\">\n",
       "    cauliflower\n",
       "    <span style=\"font-size: 0.8em; font-weight: bold; line-height: 1; border-radius: 0.35em; vertical-align: middle; margin-left: 0.5rem\">INGREDIENT</span>\n",
       "</mark>\n",
       " in half and cut out bite-sized \n",
       "<mark class=\"entity\" style=\"background: linear-gradient(90deg, #aa9cfc, #fc9ce7); padding: 0.45em 0.6em; margin: 0 0.25em; line-height: 1; border-radius: 0.35em;\">\n",
       "    florets\n",
       "    <span style=\"font-size: 0.8em; font-weight: bold; line-height: 1; border-radius: 0.35em; vertical-align: middle; margin-left: 0.5rem\">INGREDIENT</span>\n",
       "</mark>\n",
       ". </div>\n",
       "\n",
       "<div class=\"entities\" style=\"line-height: 2.5; direction: ltr\">in a large bowl, \n",
       "<mark class=\"entity\" style=\"background: linear-gradient(90deg, #3fc9a2, #a2f7b5); padding: 0.45em 0.6em; margin: 0 0.25em; line-height: 1; border-radius: 0.35em;\">\n",
       "    mix\n",
       "    <span style=\"font-size: 0.8em; font-weight: bold; line-height: 1; border-radius: 0.35em; vertical-align: middle; margin-left: 0.5rem\">PROCESS</span>\n",
       "</mark>\n",
       " together the \n",
       "<mark class=\"entity\" style=\"background: linear-gradient(90deg, #aa9cfc, #fc9ce7); padding: 0.45em 0.6em; margin: 0 0.25em; line-height: 1; border-radius: 0.35em;\">\n",
       "    garlic salt\n",
       "    <span style=\"font-size: 0.8em; font-weight: bold; line-height: 1; border-radius: 0.35em; vertical-align: middle; margin-left: 0.5rem\">INGREDIENT</span>\n",
       "</mark>\n",
       ", \n",
       "<mark class=\"entity\" style=\"background: linear-gradient(90deg, #aa9cfc, #fc9ce7); padding: 0.45em 0.6em; margin: 0 0.25em; line-height: 1; border-radius: 0.35em;\">\n",
       "    paprika/cayenne pepper\n",
       "    <span style=\"font-size: 0.8em; font-weight: bold; line-height: 1; border-radius: 0.35em; vertical-align: middle; margin-left: 0.5rem\">INGREDIENT</span>\n",
       "</mark>\n",
       ", \n",
       "<mark class=\"entity\" style=\"background: linear-gradient(90deg, #aa9cfc, #fc9ce7); padding: 0.45em 0.6em; margin: 0 0.25em; line-height: 1; border-radius: 0.35em;\">\n",
       "    white pepper\n",
       "    <span style=\"font-size: 0.8em; font-weight: bold; line-height: 1; border-radius: 0.35em; vertical-align: middle; margin-left: 0.5rem\">INGREDIENT</span>\n",
       "</mark>\n",
       ", \n",
       "<mark class=\"entity\" style=\"background: linear-gradient(90deg, #aa9cfc, #fc9ce7); padding: 0.45em 0.6em; margin: 0 0.25em; line-height: 1; border-radius: 0.35em;\">\n",
       "    ground ginger\n",
       "    <span style=\"font-size: 0.8em; font-weight: bold; line-height: 1; border-radius: 0.35em; vertical-align: middle; margin-left: 0.5rem\">INGREDIENT</span>\n",
       "</mark>\n",
       ", \n",
       "<mark class=\"entity\" style=\"background: linear-gradient(90deg, #aa9cfc, #fc9ce7); padding: 0.45em 0.6em; margin: 0 0.25em; line-height: 1; border-radius: 0.35em;\">\n",
       "    soy sauce,\n",
       "    <span style=\"font-size: 0.8em; font-weight: bold; line-height: 1; border-radius: 0.35em; vertical-align: middle; margin-left: 0.5rem\">INGREDIENT</span>\n",
       "</mark>\n",
       " and \n",
       "<mark class=\"entity\" style=\"background: linear-gradient(90deg, #aa9cfc, #fc9ce7); padding: 0.45em 0.6em; margin: 0 0.25em; line-height: 1; border-radius: 0.35em;\">\n",
       "    oat milk\n",
       "    <span style=\"font-size: 0.8em; font-weight: bold; line-height: 1; border-radius: 0.35em; vertical-align: middle; margin-left: 0.5rem\">INGREDIENT</span>\n",
       "</mark>\n",
       ". </div>\n",
       "\n",
       "<div class=\"entities\" style=\"line-height: 2.5; direction: ltr\">toss the \n",
       "<mark class=\"entity\" style=\"background: linear-gradient(90deg, #aa9cfc, #fc9ce7); padding: 0.45em 0.6em; margin: 0 0.25em; line-height: 1; border-radius: 0.35em;\">\n",
       "    cauliflower florets\n",
       "    <span style=\"font-size: 0.8em; font-weight: bold; line-height: 1; border-radius: 0.35em; vertical-align: middle; margin-left: 0.5rem\">INGREDIENT</span>\n",
       "</mark>\n",
       " in the \n",
       "<mark class=\"entity\" style=\"background: linear-gradient(90deg, #aa9cfc, #fc9ce7); padding: 0.45em 0.6em; margin: 0 0.25em; line-height: 1; border-radius: 0.35em;\">\n",
       "    oat milk\n",
       "    <span style=\"font-size: 0.8em; font-weight: bold; line-height: 1; border-radius: 0.35em; vertical-align: middle; margin-left: 0.5rem\">INGREDIENT</span>\n",
       "</mark>\n",
       " mixture. </div>\n",
       "\n",
       "<div class=\"entities\" style=\"line-height: 2.5; direction: ltr\">cover the bowl with a plastic \n",
       "<mark class=\"entity\" style=\"background: linear-gradient(90deg, #3fc9a2, #a2f7b5); padding: 0.45em 0.6em; margin: 0 0.25em; line-height: 1; border-radius: 0.35em;\">\n",
       "    wrap\n",
       "    <span style=\"font-size: 0.8em; font-weight: bold; line-height: 1; border-radius: 0.35em; vertical-align: middle; margin-left: 0.5rem\">PROCESS</span>\n",
       "</mark>\n",
       ", and let chill in the refrigerator for an hour. </div>\n",
       "\n",
       "<div class=\"entities\" style=\"line-height: 2.5; direction: ltr\">meanwhile, prepare the seasoning \n",
       "<mark class=\"entity\" style=\"background: linear-gradient(90deg, #aa9cfc, #fc9ce7); padding: 0.45em 0.6em; margin: 0 0.25em; line-height: 1; border-radius: 0.35em;\">\n",
       "    salt\n",
       "    <span style=\"font-size: 0.8em; font-weight: bold; line-height: 1; border-radius: 0.35em; vertical-align: middle; margin-left: 0.5rem\">INGREDIENT</span>\n",
       "</mark>\n",
       " by \n",
       "<mark class=\"entity\" style=\"background: linear-gradient(90deg, #3fc9a2, #a2f7b5); padding: 0.45em 0.6em; margin: 0 0.25em; line-height: 1; border-radius: 0.35em;\">\n",
       "    mixing\n",
       "    <span style=\"font-size: 0.8em; font-weight: bold; line-height: 1; border-radius: 0.35em; vertical-align: middle; margin-left: 0.5rem\">PROCESS</span>\n",
       "</mark>\n",
       " together all the seasoning \n",
       "<mark class=\"entity\" style=\"background: linear-gradient(90deg, #aa9cfc, #fc9ce7); padding: 0.45em 0.6em; margin: 0 0.25em; line-height: 1; border-radius: 0.35em;\">\n",
       "    salt\n",
       "    <span style=\"font-size: 0.8em; font-weight: bold; line-height: 1; border-radius: 0.35em; vertical-align: middle; margin-left: 0.5rem\">INGREDIENT</span>\n",
       "</mark>\n",
       " ingredients.</div></span>"
      ],
      "text/plain": [
       "<IPython.core.display.HTML object>"
      ]
     },
     "metadata": {},
     "output_type": "display_data"
    }
   ],
   "source": [
    "'''\n",
    "Test the new model!\n",
    "'''\n",
    "def test_model(nlp, text):\n",
    "  doc = nlp(text)\n",
    "  results = []\n",
    "  entities = []\n",
    "  for ent in doc.ents:\n",
    "    entities.append((ent.start_char, ent.end_char, ent.label_))\n",
    "  if len(entities) > 0:\n",
    "    results = [text, {\"entities\":entities}]\n",
    "    return [results, doc]\n",
    "\n",
    "# load the model we saved\n",
    "nlp = spacy.load(\"recipes_ner_ruler\")\n",
    "\n",
    "test = \"prepare the cauliflower and seasoning salt. first, cut the cauliflower in half and cut out bite-sized florets. in a large bowl, mix together the garlic salt, paprika/cayenne pepper, white pepper, ground ginger, soy sauce, and oat milk. toss the cauliflower florets in the oat milk mixture. cover the bowl with a plastic wrap, and let chill in the refrigerator for an hour. meanwhile, prepare the seasoning salt by mixing together all the seasoning salt ingredients.\"\n",
    "\n",
    "TRAIN_DATA = []\n",
    "\n",
    "[results, doc] = test_model(nlp, test)\n",
    "if results != None:\n",
    "  TRAIN_DATA.append(results)\n",
    "\n",
    "print(TRAIN_DATA[0])\n",
    "displacy.render(list(doc.sents), style=\"ent\", jupyter=True, options=options)\n",
    "\n",
    "write_data(\"data/recipe_train.json\", TRAIN_DATA)\n"
   ]
  },
  {
   "cell_type": "markdown",
   "metadata": {},
   "source": [
    "With this chunk from a recipe that we never looked at before, the rules based model does a pretty good job.\n",
    "However, we can see some areas where rules based models fall short.\n",
    "For example, \"wrap\" is identified as a process, despite being part of \"plastic wrap\" here.\n",
    "\n",
    "These mistakes have to be corrected by a human.\n",
    "With enough training data, our machine learning model will pick up on the nuances that a we understand and a rules based model cannot encode.\n",
    "\n",
    "## Creating the Full Dataset\n",
    "\n",
    "Now that we have a working rules based model, we can run it against the thousands of recipes in our dataset.\n",
    "\n",
    "First, we need to get a list of all the recipes we are working with and the path to the text files."
   ]
  },
  {
   "cell_type": "code",
   "execution_count": 54,
   "metadata": {},
   "outputs": [],
   "source": [
    "# open the file\n",
    "with open('scraper/data/recipes.txt') as f:\n",
    "  recipes = f.readlines()\n",
    "\n",
    "# get the path of the text version relative to our current location\n",
    "paths = [recipe.replace('./', 'scraper/').replace('jsonld', 'text').replace('json', 'txt').strip() for recipe in recipes]"
   ]
  },
  {
   "cell_type": "markdown",
   "metadata": {},
   "source": [
    "Now, for each recipe we can run the rules based model and save the result to the dataset. This will take 30 seconds or so."
   ]
  },
  {
   "cell_type": "code",
   "execution_count": 61,
   "metadata": {},
   "outputs": [],
   "source": [
    "# load the model we saved\n",
    "nlp = spacy.load(\"recipes_ner_ruler\")\n",
    "labeled = []\n",
    "\n",
    "for path in paths:\n",
    "  with open(path) as f:\n",
    "    lines = f.readlines()\n",
    "  recipe_text = \"\".join(lines)\n",
    "  [results, doc] = test_model(nlp, recipe_text)\n",
    "  if results != None:\n",
    "    # save to the labeled folder in the dataset\n",
    "    save_path = path.replace('text', 'labeled').replace('txt', 'json')\n",
    "    labeled += [save_path.replace(\"scraper\", \".\")]\n",
    "    write_data(save_path, results)\n",
    "\n",
    "write_data(\"scraper/data/labeled.json\", labeled)"
   ]
  },
  {
   "cell_type": "markdown",
   "metadata": {},
   "source": [
    "We now have our labeled data, but there's a catch.\n",
    "As we've seen, the rules based model isn't perfect, which means our machine learning model will learn the same mistakes unless we manually correct the data.\n",
    "We have done this in the provided dataset, but it's important to remember you can never skip this step when working with your own data.\n",
    "\n",
    "We are working on a graphical tool for viewing and correcting labels because the existing open source options we found lacking. \n",
    "Unfortunately, it's not ready for prime time quite yet."
   ]
  },
  {
   "cell_type": "markdown",
   "metadata": {},
   "source": [
    "## Training a Machine Learning Model\n",
    "\n",
    "At last, we can do what we originally set out for and train a machine learning model on the complete dataset.\n",
    "\n",
    "First, we can split our dataset into training, testing, and validation subsets.\n",
    "We will use the training data to teach the model and record its performance against the testing data as we go.\n",
    "The validation dataset will be used after we have trained a model we are satisfied with to determine it's performance and completely new data."
   ]
  },
  {
   "cell_type": "code",
   "execution_count": 73,
   "metadata": {},
   "outputs": [],
   "source": [
    "'''\n",
    "Split the dataset\n",
    "'''\n",
    "from math import floor\n",
    "def split_list(list_items, a, b, c):\n",
    "  assert a + b + c == 1.0\n",
    "  # seed for stability between runs\n",
    "  random.Random(42).shuffle(list_items)\n",
    "  a_stop = floor(len(list_items) * a)\n",
    "  b_stop = floor(len(list_items) * a+b)\n",
    "  a_list = list_items[0:a_stop]\n",
    "  b_list = list_items[a_stop:b_stop]\n",
    "  c_list = list_items[b_stop:]\n",
    "\n",
    "  return [a_list, b_list, c_list]\n",
    "  \n",
    "def load_list(list_items):\n",
    "  # one of the wonders of text data is we can load the entire dataset into memory without any issues\n",
    "  return [load_data(item) for item in list_items]\n",
    "\n",
    "def batch(list_items, batch_size):\n",
    "    return [list_items[i:i + batch_size] for i in range(0, len(list_items), batch_size)]\n",
    "  \n",
    "\n",
    "recipe_list = [p.replace(\"./data\", \"scraper/data\") for p in load_data(\"scraper/data/labeled.json\")]\n",
    "[train_list, test_list, validate_list] = split_list(recipe_list, 0.5, 0.2, 0.3)"
   ]
  },
  {
   "cell_type": "markdown",
   "metadata": {},
   "source": [
    "Throughout training it will be useful to monitor the model's accuracy.\n",
    "This is not as straightforward as for a binary classification problem.\n",
    "We consider the accuracy to be the number of properly identified entities out of the total expected entities."
   ]
  },
  {
   "cell_type": "code",
   "execution_count": 155,
   "metadata": {},
   "outputs": [],
   "source": [
    "def accuracy(nlp, test_data):\n",
    "  total = 0\n",
    "  correct = 0\n",
    "  correct_set = 0\n",
    "  missed = 0\n",
    "  dne = 0\n",
    "  for recipe in test_data:\n",
    "    prediction = nlp(recipe[0]).ents\n",
    "    # loop through the prediction labels looking for matches in the correct label\n",
    "    for entity in prediction:\n",
    "      for potential_entity in recipe[1][\"entities\"]:\n",
    "        if (entity.text == recipe[0][potential_entity[0]: potential_entity[1]] and entity.label_ == potential_entity[2]):\n",
    "          correct_set += 1\n",
    "          break\n",
    "    count = len(recipe[1][\"entities\"])\n",
    "    total += count\n",
    "    correct += correct_set\n",
    "    missed += count - correct_set\n",
    "    dne += len(prediction) - correct_set\n",
    "    correct_set = 0\n",
    "  return total, correct, missed, dne"
   ]
  },
  {
   "cell_type": "markdown",
   "metadata": {},
   "source": [
    "Now that we have split our dataset into the necessary segments, we can train the model and record the loss over time.\n",
    "This will help us understand how well we are training.\n",
    "Now's a good time to get up and grab a snack or take a break.\n",
    "On a decent workstation training will take about 1 minute per epoch."
   ]
  },
  {
   "cell_type": "code",
   "execution_count": 157,
   "metadata": {},
   "outputs": [
    {
     "name": "stdout",
     "output_type": "stream",
     "text": [
      "Starting iteration 0\n",
      "Starting iteration 1\n",
      "Starting iteration 2\n",
      "Starting iteration 3\n",
      "Starting iteration 4\n",
      "Starting iteration 5\n",
      "Starting iteration 6\n",
      "Starting iteration 7\n",
      "Starting iteration 8\n",
      "Starting iteration 9\n",
      "Starting iteration 10\n",
      "Starting iteration 11\n",
      "Starting iteration 12\n",
      "Starting iteration 13\n",
      "Starting iteration 14\n",
      "Starting iteration 15\n",
      "Starting iteration 16\n",
      "Starting iteration 17\n",
      "Starting iteration 18\n",
      "Starting iteration 19\n",
      "Starting iteration 20\n",
      "Starting iteration 21\n",
      "Starting iteration 22\n",
      "Starting iteration 23\n",
      "Starting iteration 24\n",
      "Starting iteration 25\n",
      "Starting iteration 26\n",
      "Starting iteration 27\n",
      "Starting iteration 28\n",
      "Starting iteration 29\n"
     ]
    }
   ],
   "source": [
    "'''\n",
    "Train a real model\n",
    "'''\n",
    "import random\n",
    "from spacy.training import Example\n",
    "\n",
    "def example(item):\n",
    "  # for spacy v3 create an example from the data\n",
    "  return Example.from_dict(nlp.make_doc(item[0]), item[1])\n",
    "\n",
    "\n",
    "# split into batches to reduce training time\n",
    "TRAIN_DATA = batch([example(item) for item in load_list(train_list)], 100)\n",
    "TEST_DATA = load_list(train_list)\n",
    "\n",
    "EPOCHS = 30\n",
    "\n",
    "LABELS = [\"INGREDIENT\", \"QUANTITY\", \"PROCESS\"]\n",
    "\n",
    "def train_spacy(data, iterations):\n",
    "  loss_history = []\n",
    "  accuracy_history = []\n",
    "  fn_history = []\n",
    "  fp_history = []\n",
    "  TRAIN_DATA = data\n",
    "  nlp = spacy.blank(\"en\")\n",
    "  if \"ner\" not in nlp.pipe_names:\n",
    "    ner = nlp.add_pipe(\"ner\")\n",
    "  for entity in LABELS:\n",
    "    ner.add_label(entity)\n",
    "  other_pipes = [pipe for pipe in nlp.pipe_names if pipe != \"ner\"]\n",
    "  with nlp.disable_pipes(*other_pipes):\n",
    "    optimizer = nlp.begin_training()\n",
    "    for itn in range(iterations):\n",
    "      print(\"Starting iteration \" + str(itn))\n",
    "      random.shuffle(TRAIN_DATA) # standard practice\n",
    "      losses = {}\n",
    "      for batch in TRAIN_DATA:\n",
    "        nlp.update(\n",
    "          batch,\n",
    "          drop = 0.2,\n",
    "          sgd=optimizer,\n",
    "          losses = losses\n",
    "        )\n",
    "        # NER is the only pipeline state\n",
    "        loss_history += [losses[\"ner\"]]\n",
    "      total, correct, fn, fp = accuracy(nlp, TEST_DATA)\n",
    "      if (total == 0):\n",
    "        total = 1\n",
    "      accuracy_history += [correct/total]\n",
    "      fn_history += [fn]\n",
    "      fp_history += [fp]\n",
    "  return [nlp, loss_history, accuracy_history]\n",
    "\n",
    "[nlp, loss_history, accuracy_history] = train_spacy(TRAIN_DATA,EPOCHS)\n",
    "nlp.to_disk(f\"full_recipes_training_data_{EPOCHS}\")\n"
   ]
  },
  {
   "cell_type": "markdown",
   "metadata": {},
   "source": [
    "Our model is trained and saved!\n",
    "This is one of spaCy's best features.\n",
    "It allows you to share and distribute models easily.\n",
    "For example, you can train a model on a powerful computing cluster and then deploy the model to hundreds of individual webservers to quickly perform NER.\n",
    "\n",
    "This also means you don't have to worry about turning your computer off or loosing power after it is trained; you can always recover the model using `spacy.load`."
   ]
  },
  {
   "cell_type": "markdown",
   "metadata": {},
   "source": [
    "## Results\n",
    "\n",
    "During training we recorded the loss and accuracy as the model was trained.\n",
    "These can help identify if overfitting occurred or if our hyper parameters were not effective."
   ]
  },
  {
   "cell_type": "code",
   "execution_count": 160,
   "metadata": {},
   "outputs": [
    {
     "data": {
      "text/plain": [
       "Text(0, 0.5, 'loss')"
      ]
     },
     "execution_count": 160,
     "metadata": {},
     "output_type": "execute_result"
    },
    {
     "data": {
      "image/png": "[encoded data removed]",
      "text/plain": [
       "<Figure size 432x288 with 1 Axes>"
      ]
     },
     "metadata": {
      "needs_background": "light"
     },
     "output_type": "display_data"
    }
   ],
   "source": [
    "import matplotlib.pyplot as plt\n",
    "\n",
    "plt.plot(loss_history)\n",
    "plt.title(\"Training Loss\")\n",
    "plt.xlabel(\"batches\")\n",
    "plt.ylabel(\"loss\")"
   ]
  },
  {
   "cell_type": "markdown",
   "metadata": {},
   "source": [
    "The training loss spikes each epoch but follows a general downward trend as we would expect."
   ]
  },
  {
   "cell_type": "code",
   "execution_count": 159,
   "metadata": {},
   "outputs": [
    {
     "data": {
      "text/plain": [
       "Text(0.5, 1.0, 'Testing Accuracy')"
      ]
     },
     "execution_count": 159,
     "metadata": {},
     "output_type": "execute_result"
    },
    {
     "data": {
      "image/png": "[encoded data removed]",
      "text/plain": [
       "<Figure size 432x288 with 1 Axes>"
      ]
     },
     "metadata": {
      "needs_background": "light"
     },
     "output_type": "display_data"
    }
   ],
   "source": [
    "plt.plot(accuracy_history)\n",
    "plt.title(\"Testing Accuracy\")"
   ]
  },
  {
   "cell_type": "markdown",
   "metadata": {},
   "source": [
    "The accuracy is similarly unsurprising, with each epoch the accuracy improves with the most significant gains happening early on.\n",
    "An interesting difference between the accuracy graphs for a classification model and NER model is that the accuracy starts at dead 0 rather than about 25% for classification with 4 classes."
   ]
  },
  {
   "cell_type": "markdown",
   "metadata": {},
   "source": [
    "## Validation\n",
    "\n",
    "To understand how well our model performs it is important to validate it against data it has not been exposed to yet.\n",
    "We set aside a validation set for exactly this purpose.\n",
    "We can calculate the accuracy as well as false positives and false negatives on this set."
   ]
  },
  {
   "cell_type": "code",
   "execution_count": 162,
   "metadata": {},
   "outputs": [
    {
     "name": "stdout",
     "output_type": "stream",
     "text": [
      "accuracy: 54752/56675=0.9660696956329952%, fp 56769, fn 56675\n"
     ]
    }
   ],
   "source": [
    "VALIDATION_DATA = load_list(validate_list)\n",
    "[total, correct, missed, dne] = accuracy(nlp, VALIDATION_DATA)\n",
    "print(f\"accuracy: {correct}/{total}={correct/total}%, fp {dne}, fn {missed}\")"
   ]
  },
  {
   "cell_type": "markdown",
   "metadata": {},
   "source": [
    "This results are impressive!\n",
    "With a dataset we built ourselves were were able to train our model and evaluate it against hundreds of recipes.\n",
    "We also saved our model so that we can restore it and start building an application on top of it.\n",
    "\n",
    "Some suggestions we have:\n",
    "* peek under the hood of spaCy and explore word vectors: what what combinations of ingredients are close in the word vector space?\n",
    "* build a recipe search engine based on your fridge\n",
    "* make an app that fills out your shopping list for you"
   ]
  },
  {
   "cell_type": "markdown",
   "metadata": {},
   "source": [
    "Finally. we can visualize a piece of validation data to sanity check our results."
   ]
  },
  {
   "cell_type": "code",
   "execution_count": 165,
   "metadata": {},
   "outputs": [
    {
     "data": {
      "text/html": [
       "<span class=\"tex2jax_ignore\"><div class=\"entities\" style=\"line-height: 2.5; direction: ltr\">Ingredients:</br>\n",
       "<mark class=\"entity\" style=\"background: linear-gradient(90deg, #787ff6, #4adede); padding: 0.45em 0.6em; margin: 0 0.25em; line-height: 1; border-radius: 0.35em;\">\n",
       "    8 ounces\n",
       "    <span style=\"font-size: 0.8em; font-weight: bold; line-height: 1; border-radius: 0.35em; vertical-align: middle; margin-left: 0.5rem\">QUANTITY</span>\n",
       "</mark>\n",
       " \n",
       "<mark class=\"entity\" style=\"background: linear-gradient(90deg, #aa9cfc, #fc9ce7); padding: 0.45em 0.6em; margin: 0 0.25em; line-height: 1; border-radius: 0.35em;\">\n",
       "    vegan chocolate chips or chopped vegan chocolate bars\n",
       "    <span style=\"font-size: 0.8em; font-weight: bold; line-height: 1; border-radius: 0.35em; vertical-align: middle; margin-left: 0.5rem\">INGREDIENT</span>\n",
       "</mark>\n",
       " (about \n",
       "<mark class=\"entity\" style=\"background: linear-gradient(90deg, #787ff6, #4adede); padding: 0.45em 0.6em; margin: 0 0.25em; line-height: 1; border-radius: 0.35em;\">\n",
       "    1 cup\n",
       "    <span style=\"font-size: 0.8em; font-weight: bold; line-height: 1; border-radius: 0.35em; vertical-align: middle; margin-left: 0.5rem\">QUANTITY</span>\n",
       "</mark>\n",
       ")</br>\n",
       "<mark class=\"entity\" style=\"background: linear-gradient(90deg, #787ff6, #4adede); padding: 0.45em 0.6em; margin: 0 0.25em; line-height: 1; border-radius: 0.35em;\">\n",
       "    1 cup\n",
       "    <span style=\"font-size: 0.8em; font-weight: bold; line-height: 1; border-radius: 0.35em; vertical-align: middle; margin-left: 0.5rem\">QUANTITY</span>\n",
       "</mark>\n",
       " \n",
       "<mark class=\"entity\" style=\"background: linear-gradient(90deg, #aa9cfc, #fc9ce7); padding: 0.45em 0.6em; margin: 0 0.25em; line-height: 1; border-radius: 0.35em;\">\n",
       "    full fat coconut milk or cream\n",
       "    <span style=\"font-size: 0.8em; font-weight: bold; line-height: 1; border-radius: 0.35em; vertical-align: middle; margin-left: 0.5rem\">INGREDIENT</span>\n",
       "</mark>\n",
       "</br></br>Instructions:</br>Add \n",
       "<mark class=\"entity\" style=\"background: linear-gradient(90deg, #aa9cfc, #fc9ce7); padding: 0.45em 0.6em; margin: 0 0.25em; line-height: 1; border-radius: 0.35em;\">\n",
       "    chocolate chips\n",
       "    <span style=\"font-size: 0.8em; font-weight: bold; line-height: 1; border-radius: 0.35em; vertical-align: middle; margin-left: 0.5rem\">INGREDIENT</span>\n",
       "</mark>\n",
       " to a medium sized bowl. If using \n",
       "<mark class=\"entity\" style=\"background: linear-gradient(90deg, #aa9cfc, #fc9ce7); padding: 0.45em 0.6em; margin: 0 0.25em; line-height: 1; border-radius: 0.35em;\">\n",
       "    chocolate\n",
       "    <span style=\"font-size: 0.8em; font-weight: bold; line-height: 1; border-radius: 0.35em; vertical-align: middle; margin-left: 0.5rem\">INGREDIENT</span>\n",
       "</mark>\n",
       " bars, chop and \n",
       "<mark class=\"entity\" style=\"background: linear-gradient(90deg, #3fc9a2, #a2f7b5); padding: 0.45em 0.6em; margin: 0 0.25em; line-height: 1; border-radius: 0.35em;\">\n",
       "    place\n",
       "    <span style=\"font-size: 0.8em; font-weight: bold; line-height: 1; border-radius: 0.35em; vertical-align: middle; margin-left: 0.5rem\">PROCESS</span>\n",
       "</mark>\n",
       " in the bowl.</br>Scoop the thick white part from the \n",
       "<mark class=\"entity\" style=\"background: linear-gradient(90deg, #aa9cfc, #fc9ce7); padding: 0.45em 0.6em; margin: 0 0.25em; line-height: 1; border-radius: 0.35em;\">\n",
       "    can of coconut\n",
       "    <span style=\"font-size: 0.8em; font-weight: bold; line-height: 1; border-radius: 0.35em; vertical-align: middle; margin-left: 0.5rem\">INGREDIENT</span>\n",
       "</mark>\n",
       " if it&amp;#039;s naturally separated. Try to use mostly the thick \n",
       "<mark class=\"entity\" style=\"background: linear-gradient(90deg, #aa9cfc, #fc9ce7); padding: 0.45em 0.6em; margin: 0 0.25em; line-height: 1; border-radius: 0.35em;\">\n",
       "    white coconut cream\n",
       "    <span style=\"font-size: 0.8em; font-weight: bold; line-height: 1; border-radius: 0.35em; vertical-align: middle; margin-left: 0.5rem\">INGREDIENT</span>\n",
       "</mark>\n",
       ", but some of the clearer liquid is fine. A \n",
       "<mark class=\"entity\" style=\"background: linear-gradient(90deg, #aa9cfc, #fc9ce7); padding: 0.45em 0.6em; margin: 0 0.25em; line-height: 1; border-radius: 0.35em;\">\n",
       "    can of coconut cream\n",
       "    <span style=\"font-size: 0.8em; font-weight: bold; line-height: 1; border-radius: 0.35em; vertical-align: middle; margin-left: 0.5rem\">INGREDIENT</span>\n",
       "</mark>\n",
       " works best.</br>Put the \n",
       "<mark class=\"entity\" style=\"background: linear-gradient(90deg, #aa9cfc, #fc9ce7); padding: 0.45em 0.6em; margin: 0 0.25em; line-height: 1; border-radius: 0.35em;\">\n",
       "    coconut milk\n",
       "    <span style=\"font-size: 0.8em; font-weight: bold; line-height: 1; border-radius: 0.35em; vertical-align: middle; margin-left: 0.5rem\">INGREDIENT</span>\n",
       "</mark>\n",
       " in a microwave safe bowl or measuring \n",
       "<mark class=\"entity\" style=\"background: linear-gradient(90deg, #787ff6, #4adede); padding: 0.45em 0.6em; margin: 0 0.25em; line-height: 1; border-radius: 0.35em;\">\n",
       "    cup\n",
       "    <span style=\"font-size: 0.8em; font-weight: bold; line-height: 1; border-radius: 0.35em; vertical-align: middle; margin-left: 0.5rem\">QUANTITY</span>\n",
       "</mark>\n",
       " and heat in the microwave for about 1 minute, watching to make sure it doesnâ€™t bubble over.</br>Pour the \n",
       "<mark class=\"entity\" style=\"background: linear-gradient(90deg, #aa9cfc, #fc9ce7); padding: 0.45em 0.6em; margin: 0 0.25em; line-height: 1; border-radius: 0.35em;\">\n",
       "    warm cream\n",
       "    <span style=\"font-size: 0.8em; font-weight: bold; line-height: 1; border-radius: 0.35em; vertical-align: middle; margin-left: 0.5rem\">INGREDIENT</span>\n",
       "</mark>\n",
       " over the \n",
       "<mark class=\"entity\" style=\"background: linear-gradient(90deg, #aa9cfc, #fc9ce7); padding: 0.45em 0.6em; margin: 0 0.25em; line-height: 1; border-radius: 0.35em;\">\n",
       "    chocolate chips\n",
       "    <span style=\"font-size: 0.8em; font-weight: bold; line-height: 1; border-radius: 0.35em; vertical-align: middle; margin-left: 0.5rem\">INGREDIENT</span>\n",
       "</mark>\n",
       " and let sit for 2-3 minutes. Don&amp;#039;t \n",
       "<mark class=\"entity\" style=\"background: linear-gradient(90deg, #3fc9a2, #a2f7b5); padding: 0.45em 0.6em; margin: 0 0.25em; line-height: 1; border-radius: 0.35em;\">\n",
       "    stir\n",
       "    <span style=\"font-size: 0.8em; font-weight: bold; line-height: 1; border-radius: 0.35em; vertical-align: middle; margin-left: 0.5rem\">PROCESS</span>\n",
       "</mark>\n",
       " yet.</br>After 2-3 minutes, \n",
       "<mark class=\"entity\" style=\"background: linear-gradient(90deg, #3fc9a2, #a2f7b5); padding: 0.45em 0.6em; margin: 0 0.25em; line-height: 1; border-radius: 0.35em;\">\n",
       "    whisk\n",
       "    <span style=\"font-size: 0.8em; font-weight: bold; line-height: 1; border-radius: 0.35em; vertical-align: middle; margin-left: 0.5rem\">PROCESS</span>\n",
       "</mark>\n",
       " the \n",
       "<mark class=\"entity\" style=\"background: linear-gradient(90deg, #aa9cfc, #fc9ce7); padding: 0.45em 0.6em; margin: 0 0.25em; line-height: 1; border-radius: 0.35em;\">\n",
       "    chocolate\n",
       "    <span style=\"font-size: 0.8em; font-weight: bold; line-height: 1; border-radius: 0.35em; vertical-align: middle; margin-left: 0.5rem\">INGREDIENT</span>\n",
       "</mark>\n",
       "/\n",
       "<mark class=\"entity\" style=\"background: linear-gradient(90deg, #aa9cfc, #fc9ce7); padding: 0.45em 0.6em; margin: 0 0.25em; line-height: 1; border-radius: 0.35em;\">\n",
       "    melted coconut milk\n",
       "    <span style=\"font-size: 0.8em; font-weight: bold; line-height: 1; border-radius: 0.35em; vertical-align: middle; margin-left: 0.5rem\">INGREDIENT</span>\n",
       "</mark>\n",
       " until smooth. To use as a frosting let it cool completely first, it will thicken up and become spreadable. To make it runnier, you \n",
       "<mark class=\"entity\" style=\"background: linear-gradient(90deg, #aa9cfc, #fc9ce7); padding: 0.45em 0.6em; margin: 0 0.25em; line-height: 1; border-radius: 0.35em;\">\n",
       "    can\n",
       "    <span style=\"font-size: 0.8em; font-weight: bold; line-height: 1; border-radius: 0.35em; vertical-align: middle; margin-left: 0.5rem\">INGREDIENT</span>\n",
       "</mark>\n",
       " warm it in the microwave for 30 seconds to 1 minute before using, such as for pancakes, cupcakes, or as a drizzle on a cake.</div></span>"
      ],
      "text/plain": [
       "<IPython.core.display.HTML object>"
      ]
     },
     "metadata": {},
     "output_type": "display_data"
    }
   ],
   "source": [
    "doc = nlp(VALIDATION_DATA[2][0])\n",
    "\n",
    "displacy.render(doc, style=\"ent\", options=options)"
   ]
  },
  {
   "cell_type": "markdown",
   "metadata": {},
   "source": [
    "Sure enough, it seems to mostly be correct!\n",
    "Here we see a funny mistake, the model misclassified \"can\" as an ingredient.\n",
    "This is probably because \"can\" is used more frequently in recipes to refer to a canned good than in the other sense."
   ]
  },
  {
   "cell_type": "markdown",
   "metadata": {},
   "source": [
    "# Acknowledgments\n",
    "\n",
    "We used the [NER with SpaCy](http://ner.pythonhumanities.com/) textbook extensively in our exploration of SpaCy and much of the model code is based off it."
   ]
  }
 ],
 "metadata": {
  "interpreter": {
   "hash": "87e9424282fee367a613829a24313dcfd760b69628e0f20ccb976688224f5c71"
  },
  "kernelspec": {
   "display_name": "Python 3.6.13 64-bit ('jupyter': conda)",
   "language": "python",
   "name": "python3"
  },
  "language_info": {
   "codemirror_mode": {
    "name": "ipython",
    "version": 3
   },
   "file_extension": ".py",
   "mimetype": "text/x-python",
   "name": "python",
   "nbconvert_exporter": "python",
   "pygments_lexer": "ipython3",
   "version": "3.6.13"
  },
  "orig_nbformat": 4
 },
 "nbformat": 4,
 "nbformat_minor": 2
}
